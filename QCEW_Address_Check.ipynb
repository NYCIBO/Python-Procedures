{
 "cells": [
  {
   "cell_type": "markdown",
   "metadata": {},
   "source": [
    "#### Author: Arash Farahani\n",
    "#### Date: 8/1/2017\n",
    "\n",
    "### Usage\n",
    "This program goes over all the Manhattan GBATed DOL-QCEW files and checks the error sheet in Google Maps API to retreive Formatted Addresses and Lat-Lon. The process is repeated twice: first with the original address, and next with the Trade/Legal name added to the address. "
   ]
  },
  {
   "cell_type": "code",
   "execution_count": 248,
   "metadata": {},
   "outputs": [
    {
     "ename": "SyntaxError",
     "evalue": "invalid syntax (<ipython-input-248-e92b36329f00>, line 20)",
     "output_type": "error",
     "traceback": [
      "\u001b[1;36m  File \u001b[1;32m\"<ipython-input-248-e92b36329f00>\"\u001b[1;36m, line \u001b[1;32m20\u001b[0m\n\u001b[1;33m    blawdsf gga afg\u001b[0m\n\u001b[1;37m              ^\u001b[0m\n\u001b[1;31mSyntaxError\u001b[0m\u001b[1;31m:\u001b[0m invalid syntax\n"
     ]
    }
   ],
   "source": [
    "import logging\n",
    "logging.basicConfig(filename='Y:/ython Procedures/QCEW_Address_Check.log',level=logging.DEBUG)\n",
    "\n",
    "import googlemaps\n",
    "from datetime import datetime\n",
    "import pandas as pd\n",
    "import re, os\n",
    "import configparser\n",
    "\n",
    "config = configparser.RawConfigParser()\n",
    "config.read('API_Keys.cfg')\n",
    "google_api_key = config.get('Google', 'QCEW_API_Key')\n",
    "\n",
    "gmaps = googlemaps.Client(key=google_api_key)\n",
    "\n",
    "#test\n",
    "geocode_result=gmaps.geocode(\"BETH ISRAEL MEDICAL CENTER, 1ST AVE AT 16TH ST, New York, NY 10003\")\n",
    "print(geocode_result[0]['geometry']['location']['lat'],geocode_result[0]['geometry']['location']['lng'])\n",
    "#print(geocode_result)\n"
   ]
  },
  {
   "cell_type": "code",
   "execution_count": 238,
   "metadata": {},
   "outputs": [
    {
     "name": "stdout",
     "output_type": "stream",
     "text": [
      "b'Z:/EAD/DOL Data/QCEW to RPAD address merge/forgbat/Manhattan/forgbatmn06.xlsx'\n",
      "['forgbatmn06', 'GBATOut', 'GBATErr', 'GBATExt']\n"
     ]
    },
    {
     "ename": "ValueError",
     "evalue": "The truth value of a Series is ambiguous. Use a.empty, a.bool(), a.item(), a.any() or a.all().",
     "output_type": "error",
     "traceback": [
      "\u001b[1;31m---------------------------------------------------------------------------\u001b[0m",
      "\u001b[1;31mValueError\u001b[0m                                Traceback (most recent call last)",
      "\u001b[1;32m<ipython-input-238-ce0248b41ed0>\u001b[0m in \u001b[0;36m<module>\u001b[1;34m()\u001b[0m\n\u001b[0;32m     62\u001b[0m         \u001b[1;31m# Save The Results\u001b[0m\u001b[1;33m\u001b[0m\u001b[1;33m\u001b[0m\u001b[0m\n\u001b[0;32m     63\u001b[0m         \u001b[0mdf\u001b[0m\u001b[1;33m[\u001b[0m\u001b[1;34m'same_GF_Address'\u001b[0m\u001b[1;33m]\u001b[0m\u001b[1;33m=\u001b[0m\u001b[1;33m(\u001b[0m\u001b[0mdf\u001b[0m\u001b[1;33m[\u001b[0m\u001b[1;34m'Gformatted_address1'\u001b[0m\u001b[1;33m]\u001b[0m\u001b[1;33m==\u001b[0m\u001b[0mdf\u001b[0m\u001b[1;33m[\u001b[0m\u001b[1;34m'Gformatted_address0'\u001b[0m\u001b[1;33m]\u001b[0m\u001b[1;33m)\u001b[0m\u001b[1;33m\u001b[0m\u001b[0m\n\u001b[1;32m---> 64\u001b[1;33m         \u001b[0mdf\u001b[0m\u001b[1;33m=\u001b[0m\u001b[0mdf\u001b[0m\u001b[1;33m[\u001b[0m\u001b[0mdf\u001b[0m\u001b[1;33m[\u001b[0m\u001b[1;34m'same_GF_Address'\u001b[0m\u001b[1;33m]\u001b[0m \u001b[1;32min\u001b[0m \u001b[1;33m[\u001b[0m\u001b[1;36m0\u001b[0m\u001b[1;33m,\u001b[0m\u001b[1;36m1\u001b[0m\u001b[1;33m]\u001b[0m\u001b[1;33m]\u001b[0m\u001b[1;33m\u001b[0m\u001b[0m\n\u001b[0m\u001b[0;32m     65\u001b[0m         \u001b[0mpd\u001b[0m\u001b[1;33m.\u001b[0m\u001b[0mExcelFile\u001b[0m\u001b[1;33m(\u001b[0m\u001b[0mos\u001b[0m\u001b[1;33m.\u001b[0m\u001b[0mpath\u001b[0m\u001b[1;33m.\u001b[0m\u001b[0mjoin\u001b[0m\u001b[1;33m(\u001b[0m\u001b[0mdirectory\u001b[0m\u001b[1;33m,\u001b[0m\u001b[0mfilename\u001b[0m\u001b[1;33m.\u001b[0m\u001b[0mencode\u001b[0m\u001b[1;33m(\u001b[0m\u001b[1;33m)\u001b[0m\u001b[1;33m)\u001b[0m\u001b[1;33m.\u001b[0m\u001b[0mdecode\u001b[0m\u001b[1;33m(\u001b[0m\u001b[1;33m)\u001b[0m\u001b[1;33m)\u001b[0m\u001b[1;33m\u001b[0m\u001b[0m\n\u001b[0;32m     66\u001b[0m         \u001b[0mwriter\u001b[0m \u001b[1;33m=\u001b[0m \u001b[0mpd\u001b[0m\u001b[1;33m.\u001b[0m\u001b[0mExcelWriter\u001b[0m\u001b[1;33m(\u001b[0m\u001b[0mos\u001b[0m\u001b[1;33m.\u001b[0m\u001b[0mpath\u001b[0m\u001b[1;33m.\u001b[0m\u001b[0mjoin\u001b[0m\u001b[1;33m(\u001b[0m\u001b[0mdirectory\u001b[0m\u001b[1;33m,\u001b[0m\u001b[1;33m(\u001b[0m\u001b[1;34m'_GoogOut_'\u001b[0m\u001b[1;33m+\u001b[0m\u001b[0mfilename\u001b[0m\u001b[1;33m)\u001b[0m\u001b[1;33m.\u001b[0m\u001b[0mencode\u001b[0m\u001b[1;33m(\u001b[0m\u001b[1;33m)\u001b[0m\u001b[1;33m)\u001b[0m\u001b[1;33m.\u001b[0m\u001b[0mdecode\u001b[0m\u001b[1;33m(\u001b[0m\u001b[1;33m)\u001b[0m\u001b[1;33m)\u001b[0m\u001b[1;33m\u001b[0m\u001b[0m\n",
      "\u001b[1;32mC:\\ProgramData\\Anaconda3\\lib\\site-packages\\pandas\\core\\generic.py\u001b[0m in \u001b[0;36m__nonzero__\u001b[1;34m(self)\u001b[0m\n\u001b[0;32m    951\u001b[0m         raise ValueError(\"The truth value of a {0} is ambiguous. \"\n\u001b[0;32m    952\u001b[0m                          \u001b[1;34m\"Use a.empty, a.bool(), a.item(), a.any() or a.all().\"\u001b[0m\u001b[1;33m\u001b[0m\u001b[0m\n\u001b[1;32m--> 953\u001b[1;33m                          .format(self.__class__.__name__))\n\u001b[0m\u001b[0;32m    954\u001b[0m \u001b[1;33m\u001b[0m\u001b[0m\n\u001b[0;32m    955\u001b[0m     \u001b[0m__bool__\u001b[0m \u001b[1;33m=\u001b[0m \u001b[0m__nonzero__\u001b[0m\u001b[1;33m\u001b[0m\u001b[0m\n",
      "\u001b[1;31mValueError\u001b[0m: The truth value of a Series is ambiguous. Use a.empty, a.bool(), a.item(), a.any() or a.all()."
     ]
    }
   ],
   "source": [
    "directory = os.fsencode(\"Z:/EAD/DOL Data/QCEW to RPAD address merge/forgbat/Manhattan/\")\n",
    "\n",
    "for file in os.listdir(directory):\n",
    "    filename = os.fsdecode(file)\n",
    "    if filename.endswith(\".xlsx\") and '_GoogOut_' not in filename:\n",
    "        print(os.path.join(directory,filename.encode()))\n",
    "        adds=pd.ExcelFile(os.path.join(directory,filename.encode()).decode())\n",
    "        print(adds.sheet_names)\n",
    "        df = adds.parse('GBATErr')\n",
    "        print(filename, ' was loaded')\n",
    "        df.head()\n",
    "        \n",
    "        \n",
    "        df.fillna('')\n",
    "        # trade2 is trade name when available, and legal name when not.\n",
    "        df['trade2'] = \"\"\n",
    "        df.loc[df.trade.fillna('')!= '', 'trade2'] = df.trade \n",
    "        df.loc[df.trade.fillna('')== '', 'trade2'] = df.legal\n",
    "        # trade(or legal) name + Original Address + City, State, Zip\n",
    "        df['NameAddress']= df.trade2.fillna('')+', '+df.originaladdress.fillna('')+', New York, NY '+df.pzip.apply(str)\n",
    "        df['Address']= df.originaladdress.fillna('')+', New York, NY '+df.pzip.apply(str)\n",
    "        df['NameAddress'].head()\n",
    "        \n",
    "        #df.reset_index(inplace=True)\n",
    "        df['Gformatted_address0']= \"\"\n",
    "        df['Glat0']= 0\n",
    "        df['Glon0']= 0\n",
    "        df['GPartial0']= False\n",
    "        df['Gtypes0']=\"\"\n",
    "        df['Gformatted_address1']= \"\"\n",
    "        df['Glat1']= 0\n",
    "        df['Glon1']= 0\n",
    "        df['GPartial1']= False\n",
    "        df['Gtypes1']=\"\"\n",
    "        i=-1\n",
    "        for var in ['Address','NameAddress']:\n",
    "            print('Started checking variable ',var)\n",
    "            i+=1\n",
    "            for index, row in df.iterrows():\n",
    "                if index<=2:     #df.count()['index']:\n",
    "                    geocode_result=gmaps.geocode(row[var])\n",
    "                    if len(geocode_result)>0:\n",
    "                        if 'partial_match' in geocode_result:\n",
    "                            df.loc[df.index == index,['GPartial'+ str(i),'Gformatted_address'+ str(i), 'Glat'+ str(i), 'Glon'+ str(i), 'Gtypes'+ str(i)]]=(\n",
    "                                                 geocode_result[0]['partial_match'], geocode_result[0]['formatted_address']\n",
    "                                                 ,geocode_result[0]['geometry']['location']['lat'],geocode_result[0]['geometry']['location']['lng'],str(geocode_result[0]['types']))\n",
    "                        else:\n",
    "                            df.loc[df.index == index,['Gformatted_address'+ str(i), 'Glat'+ str(i), 'Glon'+ str(i), 'Gtypes'+ str(i)]]=(\n",
    "                                geocode_result[0]['formatted_address'],geocode_result[0]['geometry']['location']['lat']\n",
    "                                ,geocode_result[0]['geometry']['location']['lng'],str(geocode_result[0]['types']))\n",
    "                    else:\n",
    "                        df.loc[df.index == index,['Gformatted_address'+ str(i), 'Glat'+ str(i), 'Glon'+ str(i), 'Gtypes'+ str(i)]]=(\n",
    "                                                                                                    'Not Found',0,0,str([0]))\n",
    "            # Prepare for Second Run of GBAT\n",
    "\n",
    "            pat= r\"([0-9\\-]+)(.*?)(,.*)\"\n",
    "            repl1 = lambda m: m.group(1)\n",
    "            repl2 = lambda m: m.group(2)\n",
    "            df['Gnumber'+ str(i)]=df['Gformatted_address'+ str(i)].str.replace(pat, repl1)\n",
    "            df['Gstreet'+ str(i)]=df['Gformatted_address'+ str(i)].str.replace(pat, repl2)\n",
    "            df['boro']=1\n",
    "            df[['Gnumber'+ str(i),'Gformatted_address'+ str(i)]].head(10)\n",
    "            \n",
    "        # Save The Results\n",
    "        df['same_GF_Address']=(df['Gformatted_address1']==df['Gformatted_address0'])\n",
    "        pd.ExcelFile(os.path.join(directory,filename.encode()).decode())\n",
    "        writer = pd.ExcelWriter(os.path.join(directory,('_GoogOut_'+filename).encode()).decode())\n",
    "        df.to_excel(writer,'Sheet1')\n",
    "        print('Processed data and saved: ', '_GoogOut_'+filename )\n",
    "        #df2.to_excel(writer,'Sheet2')\n",
    "        writer.save()\n",
    "    else:\n",
    "        continue\n",
    "\n",
    "\n",
    "## SOME OTHER STUFF\n",
    "# Look up an address with reverse geocoding\n",
    "#reverse_geocode_result = gmaps.reverse_geocode((40.714224, -73.961452))\n",
    "\n",
    "# Request directions via public transit\n",
    "#now = datetime.now()\n",
    "#directions_result = gmaps.directions(\"Sydney Town Hall\",\n",
    "#                                     \"Parramatta, NSW\",\n",
    "#                                     mode=\"transit\",\n",
    "#                                     departure_time=now)\n",
    "\n",
    "## Some Other Tests\n",
    "#geocode_result=gmaps.geocode(\"BETH ISRAEL MEDICAL CENTER, 1ST AVE AT 16TH ST, New York, NY 10003\")\n",
    "#print(geocode_result[0]['geometry']['location']['lat'],geocode_result[0]['geometry']['location']['lng'])\n",
    "#print(geocode_result[0]['partial_match'])\n",
    "#print(geocode_result[0])\n",
    "\n"
   ]
  }
 ],
 "metadata": {
  "kernelspec": {
   "display_name": "Python 3",
   "language": "python",
   "name": "python3"
  },
  "language_info": {
   "codemirror_mode": {
    "name": "ipython",
    "version": 3
   },
   "file_extension": ".py",
   "mimetype": "text/x-python",
   "name": "python",
   "nbconvert_exporter": "python",
   "pygments_lexer": "ipython3",
   "version": "3.6.1"
  }
 },
 "nbformat": 4,
 "nbformat_minor": 2
}
