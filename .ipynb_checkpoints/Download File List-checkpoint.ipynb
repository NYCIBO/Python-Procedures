{
 "cells": [
  {
   "cell_type": "code",
   "execution_count": 3,
   "metadata": {
    "collapsed": true
   },
   "outputs": [],
   "source": [
    "'''\n",
    "Program to download large files applied in a case where Java redirect makes life a bit harder.\n",
    "\n",
    "'''\n",
    "\n",
    "\n",
    "import os\n",
    "import requests\n",
    "import re\n",
    "\n",
    "# Download program for large files\n",
    "def download_file(url,extension=''): #extension can be supplied when the link address doesn't include one\n",
    "    local_filename = url.split('/')[-2]\n",
    "    # NOTE the stream=True parameter\n",
    "    r = requests.get(url, stream=True)\n",
    "    with open(local_filename+extension, 'wb') as f:\n",
    "        for chunk in r.iter_content(chunk_size=1024): \n",
    "            if chunk: # filter out keep-alive new chunks\n",
    "                f.write(chunk)\n",
    "                #f.flush() commented by recommendation from J.F.Sebastian\n",
    "    return local_filename"
   ]
  },
  {
   "cell_type": "code",
   "execution_count": 5,
   "metadata": {},
   "outputs": [
    {
     "ename": "TypeError",
     "evalue": "cannot use a string pattern on a bytes-like object",
     "output_type": "error",
     "traceback": [
      "\u001b[1;31m---------------------------------------------------------------------------\u001b[0m",
      "\u001b[1;31mTypeError\u001b[0m                                 Traceback (most recent call last)",
      "\u001b[1;32m<ipython-input-5-e09cc62ed25f>\u001b[0m in \u001b[0;36m<module>\u001b[1;34m()\u001b[0m\n\u001b[0;32m     11\u001b[0m \u001b[1;33m\u001b[0m\u001b[0m\n\u001b[0;32m     12\u001b[0m     \u001b[1;31m#Search for the java redirect (find it in the source code)\u001b[0m\u001b[1;33m\u001b[0m\u001b[1;33m\u001b[0m\u001b[0m\n\u001b[1;32m---> 13\u001b[1;33m     \u001b[0mm\u001b[0m \u001b[1;33m=\u001b[0m \u001b[0mre\u001b[0m\u001b[1;33m.\u001b[0m\u001b[0msearch\u001b[0m\u001b[1;33m(\u001b[0m\u001b[1;34mr\"location.href = \\'(.*?)\\'\"\u001b[0m\u001b[1;33m,\u001b[0m \u001b[0mredirect\u001b[0m\u001b[1;33m)\u001b[0m\u001b[1;33m.\u001b[0m\u001b[0mgroup\u001b[0m\u001b[1;33m(\u001b[0m\u001b[1;36m1\u001b[0m\u001b[1;33m)\u001b[0m\u001b[1;33m\u001b[0m\u001b[0m\n\u001b[0m\u001b[0;32m     14\u001b[0m     \u001b[0mprint\u001b[0m\u001b[1;33m(\u001b[0m\u001b[0mm\u001b[0m\u001b[1;33m)\u001b[0m  \u001b[1;31m#Optional\u001b[0m\u001b[1;33m\u001b[0m\u001b[0m\n\u001b[0;32m     15\u001b[0m \u001b[1;33m\u001b[0m\u001b[0m\n",
      "\u001b[1;32mC:\\ProgramData\\Anaconda3\\lib\\re.py\u001b[0m in \u001b[0;36msearch\u001b[1;34m(pattern, string, flags)\u001b[0m\n\u001b[0;32m    180\u001b[0m     \"\"\"Scan through string looking for a match to the pattern, returning\n\u001b[0;32m    181\u001b[0m     a match object, or None if no match was found.\"\"\"\n\u001b[1;32m--> 182\u001b[1;33m     \u001b[1;32mreturn\u001b[0m \u001b[0m_compile\u001b[0m\u001b[1;33m(\u001b[0m\u001b[0mpattern\u001b[0m\u001b[1;33m,\u001b[0m \u001b[0mflags\u001b[0m\u001b[1;33m)\u001b[0m\u001b[1;33m.\u001b[0m\u001b[0msearch\u001b[0m\u001b[1;33m(\u001b[0m\u001b[0mstring\u001b[0m\u001b[1;33m)\u001b[0m\u001b[1;33m\u001b[0m\u001b[0m\n\u001b[0m\u001b[0;32m    183\u001b[0m \u001b[1;33m\u001b[0m\u001b[0m\n\u001b[0;32m    184\u001b[0m \u001b[1;32mdef\u001b[0m \u001b[0msub\u001b[0m\u001b[1;33m(\u001b[0m\u001b[0mpattern\u001b[0m\u001b[1;33m,\u001b[0m \u001b[0mrepl\u001b[0m\u001b[1;33m,\u001b[0m \u001b[0mstring\u001b[0m\u001b[1;33m,\u001b[0m \u001b[0mcount\u001b[0m\u001b[1;33m=\u001b[0m\u001b[1;36m0\u001b[0m\u001b[1;33m,\u001b[0m \u001b[0mflags\u001b[0m\u001b[1;33m=\u001b[0m\u001b[1;36m0\u001b[0m\u001b[1;33m)\u001b[0m\u001b[1;33m:\u001b[0m\u001b[1;33m\u001b[0m\u001b[0m\n",
      "\u001b[1;31mTypeError\u001b[0m: cannot use a string pattern on a bytes-like object"
     ]
    }
   ],
   "source": [
    "# List of the links for download\n",
    "filelist=[\"http://info.cushmanwakefield.com/l/263412/2017-07-10/2tnq2\",\t\"http://cushwk.co/2rZhCls\",\t\"http://cushwk.co/2s7e2pW\",\t\"http://cushwk.co/2siCwfz\",\t\"http://cushwk.co/2sX05rl\",\t\"http://info.cushmanwakefield.com/l/263412/2017-07-11/2v5cs\",\t\"http://info.cushmanwakefield.com/l/263412/2017-07-11/2v5h8\",\t\"http://info.cushmanwakefield.com/l/263412/2017-07-11/2v5hg\",\t\"https://cushman-wakefield.onehub.com/d/1bc2/\",\t\"https://cushman-wakefield.onehub.com/d/1tcu/\",\t\"https://cushman-wakefield.onehub.com/d/1ur3/\",\t\"https://cushman-wakefield.onehub.com/d/1wej/\",\t\"https://cushman-wakefield.onehub.com/d/289d/\",\t\"https://cushman-wakefield.onehub.com/d/2a5a/\",\t\"https://cushman-wakefield.onehub.com/d/3gma/\",\t\"https://cushman-wakefield.onehub.com/d/3gxs/\",\t\"https://cushman-wakefield.onehub.com/d/3nsz/\",\t\"https://cushman-wakefield.onehub.com/d/44yw/\",\t\"https://cushman-wakefield.onehub.com/d/4afm/\",\t\"https://cushman-wakefield.onehub.com/d/55hs/\",\t\"https://cushman-wakefield.onehub.com/d/5gaq/\",\t\"https://cushman-wakefield.onehub.com/d/5nf7/\",\t\"https://cushman-wakefield.onehub.com/d/7bbt/\",\t\"https://cushman-wakefield.onehub.com/d/7d7s/\",\t\"https://cushman-wakefield.onehub.com/d/7d9i/\",\t\"https://cushman-wakefield.onehub.com/d/7jbg/\",\t\"https://cushman-wakefield.onehub.com/d/7nfq/\",\t\"https://cushman-wakefield.onehub.com/d/8bz2/\",\t\"https://cushman-wakefield.onehub.com/d/8kaz/\",\t\"https://cushman-wakefield.onehub.com/d/91kd/\",\t\"https://cushman-wakefield.onehub.com/d/98wd/\",\t\"https://cushman-wakefield.onehub.com/d/9j9f/\",\t\"https://cushman-wakefield.onehub.com/d/9j9f/\",\t\"https://cushman-wakefield.onehub.com/d/au2w/\",\t\"https://cushman-wakefield.onehub.com/d/b6iu/\",\t\"https://cushman-wakefield.onehub.com/d/bz5g/\",\t\"https://cushman-wakefield.onehub.com/d/d23v/\",\t\"https://cushman-wakefield.onehub.com/d/d4cd/\",\t\"https://cushman-wakefield.onehub.com/d/dc4b/\",\t\"https://cushman-wakefield.onehub.com/d/dme6/\",\t\"https://cushman-wakefield.onehub.com/d/dpjy/\",\t\"https://cushman-wakefield.onehub.com/d/dpjy/\",\t\"https://cushman-wakefield.onehub.com/d/etkm/\",\t\"https://cushman-wakefield.onehub.com/d/etkm/\",\t\"https://cushman-wakefield.onehub.com/d/fwjw/\",\t\"https://cushman-wakefield.onehub.com/d/ga2f/\",\t\"https://cushman-wakefield.onehub.com/d/gcvz/\",\t\"https://cushman-wakefield.onehub.com/d/grsc/\",\t\"https://cushman-wakefield.onehub.com/d/gzm9/\",\t\"https://cushman-wakefield.onehub.com/d/hcs2/\",\t\"https://cushman-wakefield.onehub.com/d/hsk8/\",\t\"https://cushman-wakefield.onehub.com/d/jmro/\",\t\"https://cushman-wakefield.onehub.com/d/jswd/\",\t\"https://cushman-wakefield.onehub.com/d/kdb8/\",\t\"https://cushman-wakefield.onehub.com/d/kv6l/\",\t\"https://cushman-wakefield.onehub.com/d/lhhg/\",\t\"https://cushman-wakefield.onehub.com/d/lzem/\",\t\"https://cushman-wakefield.onehub.com/d/m61c/\",\t\"https://cushman-wakefield.onehub.com/d/n3pk/\",\t\"https://cushman-wakefield.onehub.com/d/n5ak/\",\t\"https://cushman-wakefield.onehub.com/d/nf2z/\",\t\"https://cushman-wakefield.onehub.com/d/o98i/\",\t\"https://cushman-wakefield.onehub.com/d/ohnu/\",\t\"https://cushman-wakefield.onehub.com/d/ojwp/\",\t\"https://cushman-wakefield.onehub.com/d/pg7q/\",\t\"https://cushman-wakefield.onehub.com/d/pm1w/\",\t\"https://cushman-wakefield.onehub.com/d/psut/\",\t\"https://cushman-wakefield.onehub.com/d/pyha/\",\t\"https://cushman-wakefield.onehub.com/d/qdxg/\",\t\"https://cushman-wakefield.onehub.com/d/qf7p/\",\t\"https://cushman-wakefield.onehub.com/d/qnj4/\",\t\"https://cushman-wakefield.onehub.com/d/qnj4/\",\t\"https://cushman-wakefield.onehub.com/d/qnj4/\",\t\"https://cushman-wakefield.onehub.com/d/rsdp/\",\t\"https://cushman-wakefield.onehub.com/d/ru7i/\",\t\"https://cushman-wakefield.onehub.com/d/ssef/\",\t\"https://cushman-wakefield.onehub.com/d/suvc/\",\t\"https://cushman-wakefield.onehub.com/d/svz9/\",\t\"https://cushman-wakefield.onehub.com/d/tb68/\",\t\"https://cushman-wakefield.onehub.com/d/tc5s/\",\t\"https://cushman-wakefield.onehub.com/d/tmw5/\",\t\"https://cushman-wakefield.onehub.com/d/tz2u/\",\t\"https://cushman-wakefield.onehub.com/d/u3o9/\",\t\"https://cushman-wakefield.onehub.com/d/ul2h/\",\t\"https://cushman-wakefield.onehub.com/d/v59o/\",\t\"https://cushman-wakefield.onehub.com/d/vzoo/\",\t\"https://cushman-wakefield.onehub.com/d/w92g/\",\t\"https://cushman-wakefield.onehub.com/d/wdcp/\",\t\"https://cushman-wakefield.onehub.com/d/wlsg/\",\t\"https://cushman-wakefield.onehub.com/d/xrl4/\",\t\"https://cushman-wakefield.onehub.com/d/ys4k/\",\t\"https://cushman-wakefield.onehub.com/d/ysdk/\",\t\"https://cushman-wakefield.onehub.com/d/z5cu/\",\t\"https://protect-eu.mimecast.com/s/1eYcB4KM4EMF9\",\t\"https://protect-eu.mimecast.com/s/1eYcB4KM4EMF9\",\t\"https://protect-eu.mimecast.com/s/1eYcB4qA7LxH9\",\t\"https://protect-eu.mimecast.com/s/31aUB3VW7L0Hp\",\t\"https://protect-eu.mimecast.com/s/5bLHB5KN59NIG\",\t\"https://protect-eu.mimecast.com/s/5bLHB5LQv0ocG\",\t\"https://protect-eu.mimecast.com/s/OQLTBzMQE5mUv\",\t\"https://protect-eu.mimecast.com/s/ozmcBpgMwbqua\",\t\"https://protect-eu.mimecast.com/s/pkXiBb41V7nH4\",\t\"https://protect-eu.mimecast.com/s/VKGIBEr4EQ4sw\",\t\"https://protect-eu.mimecast.com/s/XKXIBY8Mvkmtp\"]\n",
    "# Save directory\n",
    "os.chdir(\"Y:\\CRT CEP Evaluation\\Documents\\CW TriState Docs\")\n",
    "\n",
    "# In this example, due to a Java redirect, the link addresses needed to be retreived.\n",
    "for f in filelist:\n",
    "    #Find source code\n",
    "    redirect = requests.get(f).content.decode('utf-8')\n",
    "    #print(redirect)\n",
    "    \n",
    "    #Search for the java redirect (find it in the source code) \n",
    "    m = re.search(r\"location.href = \\'(.*?)\\'\", redirect).group(1)\n",
    "    print(m)  #Optional\n",
    "        \n",
    "    download_file(m,extension=\".pdf\")\n",
    "    "
   ]
  },
  {
   "cell_type": "code",
   "execution_count": 2,
   "metadata": {},
   "outputs": [
    {
     "name": "stdout",
     "output_type": "stream",
     "text": [
      "Done\n"
     ]
    }
   ],
   "source": [
    "# In this example, file list is directly downloaded\n",
    "'''\n",
    "Program to download large files applied in a case where Java redirect makes life a bit harder.\n",
    "\n",
    "'''\n",
    "\n",
    "\n",
    "import os\n",
    "import requests\n",
    "import re\n",
    "\n",
    "# Download program for large files\n",
    "def download_file(url,extension=''): #extension can be supplied when the link address doesn't include one\n",
    "    local_filename = url.split('/')[-1]\n",
    "    # NOTE the stream=True parameter\n",
    "    r = requests.get(url, stream=True)\n",
    "    with open(local_filename+extension, 'wb') as f:\n",
    "        for chunk in r.iter_content(chunk_size=1024): \n",
    "            if chunk: # filter out keep-alive new chunks\n",
    "                f.write(chunk)\n",
    "                #f.flush() commented by recommendation from J.F.Sebastian\n",
    "    return local_filename\n",
    "\n",
    "\n",
    "# List of the links for download\n",
    "filelist=['http://www1.nyc.gov/assets/buildings/foil/job0103excel.zip','http://www1.nyc.gov/assets/buildings/foil/job0203excel.zip','http://www1.nyc.gov/assets/buildings/foil/job0303excel.zip','http://www1.nyc.gov/assets/buildings/foil/job0403excel.zip','http://www1.nyc.gov/assets/buildings/foil/job0503excel.zip','http://www1.nyc.gov/assets/buildings/foil/job0603excel.zip','http://www1.nyc.gov/assets/buildings/foil/job0703excel.zip','http://www1.nyc.gov/assets/buildings/foil/job0803excel.zip','http://www1.nyc.gov/assets/buildings/foil/job0903excel.zip','http://www1.nyc.gov/assets/buildings/foil/job1003excel.zip','http://www1.nyc.gov/assets/buildings/foil/job1103excel.zip','http://www1.nyc.gov/assets/buildings/foil/job1203excel.zip','http://www1.nyc.gov/assets/buildings/foil/job0104excel.zip','http://www1.nyc.gov/assets/buildings/foil/job0204excel.zip','http://www1.nyc.gov/assets/buildings/foil/job0304excel.zip','http://www1.nyc.gov/assets/buildings/foil/job0404excel.zip','http://www1.nyc.gov/assets/buildings/foil/job0504excel.zip','http://www1.nyc.gov/assets/buildings/foil/job0604excel.zip','http://www1.nyc.gov/assets/buildings/foil/job0704excel.zip','http://www1.nyc.gov/assets/buildings/foil/job0804excel.zip','http://www1.nyc.gov/assets/buildings/foil/job0904excel.zip','http://www1.nyc.gov/assets/buildings/foil/job1004excel.zip','http://www1.nyc.gov/assets/buildings/foil/job1104excel.zip','http://www1.nyc.gov/assets/buildings/foil/job1204excel.zip','http://www1.nyc.gov/assets/buildings/foil/job0105excel.zip','http://www1.nyc.gov/assets/buildings/foil/job0205excel.zip','http://www1.nyc.gov/assets/buildings/foil/job0305excel.zip','http://www1.nyc.gov/assets/buildings/foil/job0405excel.zip','http://www1.nyc.gov/assets/buildings/foil/job0505excel.zip','http://www1.nyc.gov/assets/buildings/foil/job0605excel.zip','http://www1.nyc.gov/assets/buildings/foil/job0705excel.zip','http://www1.nyc.gov/assets/buildings/foil/job0805excel.zip','http://www1.nyc.gov/assets/buildings/foil/job0905excel.zip','http://www1.nyc.gov/assets/buildings/foil/job1005excel.zip','http://www1.nyc.gov/assets/buildings/foil/job1105excel.zip','http://www1.nyc.gov/assets/buildings/foil/job1205excel.zip','http://www1.nyc.gov/assets/buildings/foil/job0106excel.zip','http://www1.nyc.gov/assets/buildings/foil/job0206excel.zip','http://www1.nyc.gov/assets/buildings/foil/job0306excel.zip','http://www1.nyc.gov/assets/buildings/foil/job0406excel.zip','http://www1.nyc.gov/assets/buildings/foil/job0506excel.zip','http://www1.nyc.gov/assets/buildings/foil/job0606excel.zip','http://www1.nyc.gov/assets/buildings/foil/job0706excel.zip','http://www1.nyc.gov/assets/buildings/foil/job0806excel.zip','http://www1.nyc.gov/assets/buildings/foil/job0906excel.zip','http://www1.nyc.gov/assets/buildings/foil/job1006excel.zip','http://www1.nyc.gov/assets/buildings/foil/job1106excel.zip','http://www1.nyc.gov/assets/buildings/foil/job1206excel.zip','http://www1.nyc.gov/assets/buildings/foil/job0107excel.zip','http://www1.nyc.gov/assets/buildings/foil/job0207excel.zip','http://www1.nyc.gov/assets/buildings/foil/job0307excel.zip','http://www1.nyc.gov/assets/buildings/foil/job0407excel.zip','http://www1.nyc.gov/assets/buildings/foil/job0507excel.zip','http://www1.nyc.gov/assets/buildings/foil/job0607excel.zip','http://www1.nyc.gov/assets/buildings/foil/job0707excel.zip','http://www1.nyc.gov/assets/buildings/foil/job0807excel.zip','http://www1.nyc.gov/assets/buildings/foil/job0907excel.zip','http://www1.nyc.gov/assets/buildings/foil/job1007excel.zip','http://www1.nyc.gov/assets/buildings/foil/job1107excel.zip','http://www1.nyc.gov/assets/buildings/foil/job1207excel.zip','http://www1.nyc.gov/assets/buildings/foil/job0108excel.zip','http://www1.nyc.gov/assets/buildings/foil/job0208excel.zip','http://www1.nyc.gov/assets/buildings/foil/job0308excel.zip','http://www1.nyc.gov/assets/buildings/foil/job0408excel.zip','http://www1.nyc.gov/assets/buildings/foil/job0508excel.zip','http://www1.nyc.gov/assets/buildings/foil/job0608excel.zip','http://www1.nyc.gov/assets/buildings/foil/job0708excel.zip','http://www1.nyc.gov/assets/buildings/foil/job0808excel.zip','http://www1.nyc.gov/assets/buildings/foil/job0908excel.zip','http://www1.nyc.gov/assets/buildings/foil/job1008excel.zip','http://www1.nyc.gov/assets/buildings/foil/job1108excel.zip','http://www1.nyc.gov/assets/buildings/foil/job1208excel.zip','http://www1.nyc.gov/assets/buildings/foil/job0109excel.zip','http://www1.nyc.gov/assets/buildings/foil/job0209excel.zip','http://www1.nyc.gov/assets/buildings/foil/job0309excel.zip','http://www1.nyc.gov/assets/buildings/foil/job0409excel.zip','http://www1.nyc.gov/assets/buildings/foil/job0509excel.zip','http://www1.nyc.gov/assets/buildings/foil/job0609excel.zip','http://www1.nyc.gov/assets/buildings/foil/job0709excel.zip','http://www1.nyc.gov/assets/buildings/foil/job0809excel.zip','http://www1.nyc.gov/assets/buildings/foil/job0909excel.zip','http://www1.nyc.gov/assets/buildings/foil/job1009excel.zip','http://www1.nyc.gov/assets/buildings/foil/job1109excel.zip','http://www1.nyc.gov/assets/buildings/foil/job1209excel.zip','http://www1.nyc.gov/assets/buildings/foil/job0110excel.zip','http://www1.nyc.gov/assets/buildings/foil/job0210excel.zip','http://www1.nyc.gov/assets/buildings/foil/job0310excel.zip','http://www1.nyc.gov/assets/buildings/foil/job0410excel.zip','http://www1.nyc.gov/assets/buildings/foil/job0510excel.zip','http://www1.nyc.gov/assets/buildings/foil/job0610excel.zip','http://www1.nyc.gov/assets/buildings/foil/job0710excel.zip','http://www1.nyc.gov/assets/buildings/foil/job0810excel.zip','http://www1.nyc.gov/assets/buildings/foil/job0910excel.zip','http://www1.nyc.gov/assets/buildings/foil/job1010excel.zip','http://www1.nyc.gov/assets/buildings/foil/job1110excel.zip','http://www1.nyc.gov/assets/buildings/foil/job1210excel.zip','http://www1.nyc.gov/assets/buildings/foil/job0110excel.zip','http://www1.nyc.gov/assets/buildings/foil/job0210excel.zip','http://www1.nyc.gov/assets/buildings/foil/job0310excel.zip','http://www1.nyc.gov/assets/buildings/foil/job0410excel.zip','http://www1.nyc.gov/assets/buildings/foil/job0510excel.zip','http://www1.nyc.gov/assets/buildings/foil/job0610excel.zip','http://www1.nyc.gov/assets/buildings/foil/job0710excel.zip','http://www1.nyc.gov/assets/buildings/foil/job0810excel.zip','http://www1.nyc.gov/assets/buildings/foil/job0910excel.zip','http://www1.nyc.gov/assets/buildings/foil/job1010excel.zip','http://www1.nyc.gov/assets/buildings/foil/job1110excel.zip','http://www1.nyc.gov/assets/buildings/foil/job1210excel.zip','http://www1.nyc.gov/assets/buildings/foil/job0111excel.zip','http://www1.nyc.gov/assets/buildings/foil/job0211excel.zip','http://www1.nyc.gov/assets/buildings/foil/job0311excel.zip','http://www1.nyc.gov/assets/buildings/foil/job0411excel.zip','http://www1.nyc.gov/assets/buildings/foil/job0511excel.zip','http://www1.nyc.gov/assets/buildings/foil/job0611excel.zip','http://www1.nyc.gov/assets/buildings/foil/job0711excel.zip','http://www1.nyc.gov/assets/buildings/foil/job0811excel.zip','http://www1.nyc.gov/assets/buildings/foil/job0911excel.zip','http://www1.nyc.gov/assets/buildings/foil/job1011excel.zip','http://www1.nyc.gov/assets/buildings/foil/job1111excel.zip','http://www1.nyc.gov/assets/buildings/foil/job1211excel.zip','http://www1.nyc.gov/assets/buildings/foil/job0112excel.zip','http://www1.nyc.gov/assets/buildings/foil/job0212excel.zip','http://www1.nyc.gov/assets/buildings/foil/job0312excel.zip','http://www1.nyc.gov/assets/buildings/foil/job0412excel.zip','http://www1.nyc.gov/assets/buildings/foil/job0512excel.zip','http://www1.nyc.gov/assets/buildings/foil/job0612excel.zip','http://www1.nyc.gov/assets/buildings/foil/job0712excel.zip','http://www1.nyc.gov/assets/buildings/foil/job0812excel.zip','http://www1.nyc.gov/assets/buildings/foil/job0912excel.zip','http://www1.nyc.gov/assets/buildings/foil/job1012excel.zip','http://www1.nyc.gov/assets/buildings/foil/job1112excel.zip','http://www1.nyc.gov/assets/buildings/foil/job1212excel.zip','http://www1.nyc.gov/assets/buildings/foil/job0113excel.zip','http://www1.nyc.gov/assets/buildings/foil/job0213excel.zip','http://www1.nyc.gov/assets/buildings/foil/job0313excel.zip','http://www1.nyc.gov/assets/buildings/foil/job0413excel.zip','http://www1.nyc.gov/assets/buildings/foil/job0513excel.zip','http://www1.nyc.gov/assets/buildings/foil/job0613excel.zip','http://www1.nyc.gov/assets/buildings/foil/job0713excel.zip','http://www1.nyc.gov/assets/buildings/foil/job0813excel.zip','http://www1.nyc.gov/assets/buildings/foil/job0913excel.zip','http://www1.nyc.gov/assets/buildings/foil/job1013excel.zip','http://www1.nyc.gov/assets/buildings/foil/job1113excel.zip','http://www1.nyc.gov/assets/buildings/foil/job1213excel.zip','http://www1.nyc.gov/assets/buildings/foil/job0114excel.zip','http://www1.nyc.gov/assets/buildings/foil/job0214excel.zip','http://www1.nyc.gov/assets/buildings/foil/job0314excel.zip','http://www1.nyc.gov/assets/buildings/foil/job0414excel.zip','http://www1.nyc.gov/assets/buildings/foil/job0514excel.zip','http://www1.nyc.gov/assets/buildings/foil/job0614excel.zip','http://www1.nyc.gov/assets/buildings/foil/job0714excel.zip','http://www1.nyc.gov/assets/buildings/foil/job0814excel.zip','http://www1.nyc.gov/assets/buildings/foil/job0914excel.zip','http://www1.nyc.gov/assets/buildings/foil/job1014excel.zip','http://www1.nyc.gov/assets/buildings/foil/job1114excel.zip','http://www1.nyc.gov/assets/buildings/foil/job1214excel.zip','http://www1.nyc.gov/assets/buildings/foil/job0115excel.zip','http://www1.nyc.gov/assets/buildings/foil/job0215excel.zip','http://www1.nyc.gov/assets/buildings/foil/job0315excel.zip','http://www1.nyc.gov/assets/buildings/foil/job0415excel.zip','http://www1.nyc.gov/assets/buildings/foil/job0515excel.zip','http://www1.nyc.gov/assets/buildings/foil/job0615excel.zip','http://www1.nyc.gov/assets/buildings/foil/job0715excel.zip','http://www1.nyc.gov/assets/buildings/foil/job0815excel.zip','http://www1.nyc.gov/assets/buildings/foil/job0915excel.zip','http://www1.nyc.gov/assets/buildings/foil/job1015excel.zip','http://www1.nyc.gov/assets/buildings/foil/job1115excel.zip','http://www1.nyc.gov/assets/buildings/foil/job1215excel.zip','http://www1.nyc.gov/assets/buildings/foil/job0116excel.zip','http://www1.nyc.gov/assets/buildings/foil/job0216excel.zip','http://www1.nyc.gov/assets/buildings/foil/job0316excel.zip','http://www1.nyc.gov/assets/buildings/foil/job0416excel.zip','http://www1.nyc.gov/assets/buildings/foil/job0516excel.zip','http://www1.nyc.gov/assets/buildings/foil/job0616excel.zip','http://www1.nyc.gov/assets/buildings/foil/job0716excel.zip','http://www1.nyc.gov/assets/buildings/foil/job0816excel.zip','http://www1.nyc.gov/assets/buildings/foil/job0916excel.zip','http://www1.nyc.gov/assets/buildings/foil/job1016excel.zip','http://www1.nyc.gov/assets/buildings/foil/job1116excel.zip','http://www1.nyc.gov/assets/buildings/foil/job1216excel.zip','http://www1.nyc.gov/assets/buildings/foil/job0117excel.zip','http://www1.nyc.gov/assets/buildings/foil/job0217excel.zip','http://www1.nyc.gov/assets/buildings/foil/job0317excel.zip','http://www1.nyc.gov/assets/buildings/foil/job0417excel.zip','http://www1.nyc.gov/assets/buildings/foil/job0517excel.zip','http://www1.nyc.gov/assets/buildings/foil/job0617excel.zip','http://www1.nyc.gov/assets/buildings/foil/job0717excel.zip','http://www1.nyc.gov/assets/buildings/foil/job0817excel.zip','http://www1.nyc.gov/assets/buildings/foil/job0917excel.zip','http://www1.nyc.gov/assets/buildings/foil/job1017excel.zip','http://www1.nyc.gov/assets/buildings/foil/job1117excel.zip','http://www1.nyc.gov/assets/buildings/foil/job1217excel.zip']\n",
    "# Save directory\n",
    "os.chdir(\"Z:\\Agency Folders\\Buildings\\Data\\BIS Data\\Extension post 2012\\Monthly Jobs Reports\")\n",
    "\n",
    "# In this example, due to a Java redirect, the link addresses needed to be retreived.\n",
    "for f in filelist:        \n",
    "    download_file(f)\n",
    "\n",
    "print(\"Done\")"
   ]
  },
  {
   "cell_type": "code",
   "execution_count": null,
   "metadata": {
    "collapsed": true
   },
   "outputs": [],
   "source": [
    "# Python 3 Download Methods\n",
    "import urllib.request, urllib.parse, urllib.error\n",
    " \n",
    "url = 'http://www.blog.pythonlibrary.org/wp-content/uploads/2012/06/wxDbViewer.zip'\n",
    " \n",
    "print(\"downloading with urllib\")\n",
    "urllib.request.urlretrieve(url, \"code.zip\")\n",
    " \n",
    "print(\"downloading with urllib2\")\n",
    "f = urllib.request.urlopen(url)\n",
    "data = f.read()\n",
    "with open(\"code2.zip\", \"wb\") as code:\n",
    "    code.write(data)"
   ]
  }
 ],
 "metadata": {
  "kernelspec": {
   "display_name": "Python 3",
   "language": "python",
   "name": "python3"
  },
  "language_info": {
   "codemirror_mode": {
    "name": "ipython",
    "version": 3
   },
   "file_extension": ".py",
   "mimetype": "text/x-python",
   "name": "python",
   "nbconvert_exporter": "python",
   "pygments_lexer": "ipython3",
   "version": "3.6.1"
  }
 },
 "nbformat": 4,
 "nbformat_minor": 2
}
