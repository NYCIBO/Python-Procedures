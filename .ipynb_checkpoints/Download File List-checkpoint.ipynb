{
 "cells": [
  {
   "cell_type": "code",
   "execution_count": 4,
   "metadata": {
    "collapsed": true
   },
   "outputs": [],
   "source": [
    "'''\n",
    "Program to download large files applied in a case where Java redirect makes life a bit harder.\n",
    "\n",
    "'''\n",
    "\n",
    "\n",
    "import os\n",
    "import requests\n",
    "import re\n",
    "\n",
    "# Download program for large files\n",
    "def download_file(url,extension=''): #extension can be supplied when the link address doesn't include one\n",
    "    local_filename = url.split('/')[-1]\n",
    "    # NOTE the stream=True parameter\n",
    "    r = requests.get(url, stream=True)\n",
    "    with open(local_filename+extension, 'wb') as f:\n",
    "        for chunk in r.iter_content(chunk_size=1024): \n",
    "            if chunk: # filter out keep-alive new chunks\n",
    "                f.write(chunk)\n",
    "                #f.flush() commented by recommendation from J.F.Sebastian\n",
    "    print(local_filename, \" downloaded.\")"
   ]
  },
  {
   "cell_type": "code",
   "execution_count": null,
   "metadata": {},
   "outputs": [
    {
     "name": "stdout",
     "output_type": "stream",
     "text": [
      "2016_annual_singlefile.zip\n",
      "2015_annual_singlefile.zip\n",
      "2014_annual_singlefile.zip\n"
     ]
    }
   ],
   "source": [
    "# List of the links for download\n",
    "filelist=['https://data.bls.gov/cew/data/files/2016/csv/2016_annual_singlefile.zip', \n",
    "'https://data.bls.gov/cew/data/files/2015/csv/2015_annual_singlefile.zip', \n",
    "'https://data.bls.gov/cew/data/files/2014/csv/2014_annual_singlefile.zip', \n",
    "'https://data.bls.gov/cew/data/files/2013/csv/2013_annual_singlefile.zip', \n",
    "'https://data.bls.gov/cew/data/files/2012/csv/2012_annual_singlefile.zip', \n",
    "'https://data.bls.gov/cew/data/files/2011/csv/2011_annual_singlefile.zip', \n",
    "'https://data.bls.gov/cew/data/files/2010/csv/2010_annual_singlefile.zip', \n",
    "'https://data.bls.gov/cew/data/files/2009/csv/2009_annual_singlefile.zip', \n",
    "'https://data.bls.gov/cew/data/files/2008/csv/2008_annual_singlefile.zip', \n",
    "'https://data.bls.gov/cew/data/files/2007/csv/2007_annual_singlefile.zip', \n",
    "'https://data.bls.gov/cew/data/files/2006/csv/2006_annual_singlefile.zip', \n",
    "'https://data.bls.gov/cew/data/files/2005/csv/2005_annual_singlefile.zip', \n",
    "'https://data.bls.gov/cew/data/files/2004/csv/2004_annual_singlefile.zip', \n",
    "'https://data.bls.gov/cew/data/files/2003/csv/2003_annual_singlefile.zip', \n",
    "'https://data.bls.gov/cew/data/files/2002/csv/2002_annual_singlefile.zip', \n",
    "'https://data.bls.gov/cew/data/files/2001/csv/2001_annual_singlefile.zip', \n",
    "'https://data.bls.gov/cew/data/files/2000/csv/2000_annual_singlefile.zip', \n",
    "'https://data.bls.gov/cew/data/files/1999/csv/1999_annual_singlefile.zip', \n",
    "'https://data.bls.gov/cew/data/files/1998/csv/1998_annual_singlefile.zip', \n",
    "'https://data.bls.gov/cew/data/files/1997/csv/1997_annual_singlefile.zip', \n",
    "'https://data.bls.gov/cew/data/files/1996/csv/1996_annual_singlefile.zip', \n",
    "'https://data.bls.gov/cew/data/files/1995/csv/1995_annual_singlefile.zip', \n",
    "'https://data.bls.gov/cew/data/files/1994/csv/1994_annual_singlefile.zip', \n",
    "'https://data.bls.gov/cew/data/files/1993/csv/1993_annual_singlefile.zip', \n",
    "'https://data.bls.gov/cew/data/files/1992/csv/1992_annual_singlefile.zip', \n",
    "'https://data.bls.gov/cew/data/files/1991/csv/1991_annual_singlefile.zip', \n",
    "'https://data.bls.gov/cew/data/files/1990/csv/1990_annual_singlefile.zip', \n",
    "]\n",
    "# Save directory\n",
    "os.chdir(\"Z:\\EAD\\Business Income Taxes\\Insurance Tax\\Data\\QCEW\")\n",
    "\n",
    "# In this example, due to a Java redirect, the link addresses needed to be retreived.\n",
    "for f in filelist:        \n",
    "    download_file(f,extension=\"\")\n",
    "    "
   ]
  },
  {
   "cell_type": "code",
   "execution_count": 2,
   "metadata": {},
   "outputs": [
    {
     "name": "stdout",
     "output_type": "stream",
     "text": [
      "Done\n"
     ]
    }
   ],
   "source": [
    "# In this example, file list is directly downloaded\n",
    "'''\n",
    "Program to download large files applied in a case where Java redirect makes life a bit harder.\n",
    "\n",
    "'''\n",
    "\n",
    "\n",
    "import os\n",
    "import requests\n",
    "import re\n",
    "\n",
    "# Download program for large files\n",
    "def download_file(url,extension=''): #extension can be supplied when the link address doesn't include one\n",
    "    local_filename = url.split('/')[-1]\n",
    "    # NOTE the stream=True parameter\n",
    "    r = requests.get(url, stream=True)\n",
    "    with open(local_filename+extension, 'wb') as f:\n",
    "        for chunk in r.iter_content(chunk_size=1024): \n",
    "            if chunk: # filter out keep-alive new chunks\n",
    "                f.write(chunk)\n",
    "                #f.flush() commented by recommendation from J.F.Sebastian\n",
    "    return local_filename\n",
    "\n",
    "\n",
    "# List of the links for download\n",
    "filelist=['http://www1.nyc.gov/assets/buildings/foil/job0103excel.zip','http://www1.nyc.gov/assets/buildings/foil/job0203excel.zip','http://www1.nyc.gov/assets/buildings/foil/job0303excel.zip','http://www1.nyc.gov/assets/buildings/foil/job0403excel.zip','http://www1.nyc.gov/assets/buildings/foil/job0503excel.zip','http://www1.nyc.gov/assets/buildings/foil/job0603excel.zip','http://www1.nyc.gov/assets/buildings/foil/job0703excel.zip','http://www1.nyc.gov/assets/buildings/foil/job0803excel.zip','http://www1.nyc.gov/assets/buildings/foil/job0903excel.zip','http://www1.nyc.gov/assets/buildings/foil/job1003excel.zip','http://www1.nyc.gov/assets/buildings/foil/job1103excel.zip','http://www1.nyc.gov/assets/buildings/foil/job1203excel.zip','http://www1.nyc.gov/assets/buildings/foil/job0104excel.zip','http://www1.nyc.gov/assets/buildings/foil/job0204excel.zip','http://www1.nyc.gov/assets/buildings/foil/job0304excel.zip','http://www1.nyc.gov/assets/buildings/foil/job0404excel.zip','http://www1.nyc.gov/assets/buildings/foil/job0504excel.zip','http://www1.nyc.gov/assets/buildings/foil/job0604excel.zip','http://www1.nyc.gov/assets/buildings/foil/job0704excel.zip','http://www1.nyc.gov/assets/buildings/foil/job0804excel.zip','http://www1.nyc.gov/assets/buildings/foil/job0904excel.zip','http://www1.nyc.gov/assets/buildings/foil/job1004excel.zip','http://www1.nyc.gov/assets/buildings/foil/job1104excel.zip','http://www1.nyc.gov/assets/buildings/foil/job1204excel.zip','http://www1.nyc.gov/assets/buildings/foil/job0105excel.zip','http://www1.nyc.gov/assets/buildings/foil/job0205excel.zip','http://www1.nyc.gov/assets/buildings/foil/job0305excel.zip','http://www1.nyc.gov/assets/buildings/foil/job0405excel.zip','http://www1.nyc.gov/assets/buildings/foil/job0505excel.zip','http://www1.nyc.gov/assets/buildings/foil/job0605excel.zip','http://www1.nyc.gov/assets/buildings/foil/job0705excel.zip','http://www1.nyc.gov/assets/buildings/foil/job0805excel.zip','http://www1.nyc.gov/assets/buildings/foil/job0905excel.zip','http://www1.nyc.gov/assets/buildings/foil/job1005excel.zip','http://www1.nyc.gov/assets/buildings/foil/job1105excel.zip','http://www1.nyc.gov/assets/buildings/foil/job1205excel.zip','http://www1.nyc.gov/assets/buildings/foil/job0106excel.zip','http://www1.nyc.gov/assets/buildings/foil/job0206excel.zip','http://www1.nyc.gov/assets/buildings/foil/job0306excel.zip','http://www1.nyc.gov/assets/buildings/foil/job0406excel.zip','http://www1.nyc.gov/assets/buildings/foil/job0506excel.zip','http://www1.nyc.gov/assets/buildings/foil/job0606excel.zip','http://www1.nyc.gov/assets/buildings/foil/job0706excel.zip','http://www1.nyc.gov/assets/buildings/foil/job0806excel.zip','http://www1.nyc.gov/assets/buildings/foil/job0906excel.zip','http://www1.nyc.gov/assets/buildings/foil/job1006excel.zip','http://www1.nyc.gov/assets/buildings/foil/job1106excel.zip','http://www1.nyc.gov/assets/buildings/foil/job1206excel.zip','http://www1.nyc.gov/assets/buildings/foil/job0107excel.zip','http://www1.nyc.gov/assets/buildings/foil/job0207excel.zip','http://www1.nyc.gov/assets/buildings/foil/job0307excel.zip','http://www1.nyc.gov/assets/buildings/foil/job0407excel.zip','http://www1.nyc.gov/assets/buildings/foil/job0507excel.zip','http://www1.nyc.gov/assets/buildings/foil/job0607excel.zip','http://www1.nyc.gov/assets/buildings/foil/job0707excel.zip','http://www1.nyc.gov/assets/buildings/foil/job0807excel.zip','http://www1.nyc.gov/assets/buildings/foil/job0907excel.zip','http://www1.nyc.gov/assets/buildings/foil/job1007excel.zip','http://www1.nyc.gov/assets/buildings/foil/job1107excel.zip','http://www1.nyc.gov/assets/buildings/foil/job1207excel.zip','http://www1.nyc.gov/assets/buildings/foil/job0108excel.zip','http://www1.nyc.gov/assets/buildings/foil/job0208excel.zip','http://www1.nyc.gov/assets/buildings/foil/job0308excel.zip','http://www1.nyc.gov/assets/buildings/foil/job0408excel.zip','http://www1.nyc.gov/assets/buildings/foil/job0508excel.zip','http://www1.nyc.gov/assets/buildings/foil/job0608excel.zip','http://www1.nyc.gov/assets/buildings/foil/job0708excel.zip','http://www1.nyc.gov/assets/buildings/foil/job0808excel.zip','http://www1.nyc.gov/assets/buildings/foil/job0908excel.zip','http://www1.nyc.gov/assets/buildings/foil/job1008excel.zip','http://www1.nyc.gov/assets/buildings/foil/job1108excel.zip','http://www1.nyc.gov/assets/buildings/foil/job1208excel.zip','http://www1.nyc.gov/assets/buildings/foil/job0109excel.zip','http://www1.nyc.gov/assets/buildings/foil/job0209excel.zip','http://www1.nyc.gov/assets/buildings/foil/job0309excel.zip','http://www1.nyc.gov/assets/buildings/foil/job0409excel.zip','http://www1.nyc.gov/assets/buildings/foil/job0509excel.zip','http://www1.nyc.gov/assets/buildings/foil/job0609excel.zip','http://www1.nyc.gov/assets/buildings/foil/job0709excel.zip','http://www1.nyc.gov/assets/buildings/foil/job0809excel.zip','http://www1.nyc.gov/assets/buildings/foil/job0909excel.zip','http://www1.nyc.gov/assets/buildings/foil/job1009excel.zip','http://www1.nyc.gov/assets/buildings/foil/job1109excel.zip','http://www1.nyc.gov/assets/buildings/foil/job1209excel.zip','http://www1.nyc.gov/assets/buildings/foil/job0110excel.zip','http://www1.nyc.gov/assets/buildings/foil/job0210excel.zip','http://www1.nyc.gov/assets/buildings/foil/job0310excel.zip','http://www1.nyc.gov/assets/buildings/foil/job0410excel.zip','http://www1.nyc.gov/assets/buildings/foil/job0510excel.zip','http://www1.nyc.gov/assets/buildings/foil/job0610excel.zip','http://www1.nyc.gov/assets/buildings/foil/job0710excel.zip','http://www1.nyc.gov/assets/buildings/foil/job0810excel.zip','http://www1.nyc.gov/assets/buildings/foil/job0910excel.zip','http://www1.nyc.gov/assets/buildings/foil/job1010excel.zip','http://www1.nyc.gov/assets/buildings/foil/job1110excel.zip','http://www1.nyc.gov/assets/buildings/foil/job1210excel.zip','http://www1.nyc.gov/assets/buildings/foil/job0110excel.zip','http://www1.nyc.gov/assets/buildings/foil/job0210excel.zip','http://www1.nyc.gov/assets/buildings/foil/job0310excel.zip','http://www1.nyc.gov/assets/buildings/foil/job0410excel.zip','http://www1.nyc.gov/assets/buildings/foil/job0510excel.zip','http://www1.nyc.gov/assets/buildings/foil/job0610excel.zip','http://www1.nyc.gov/assets/buildings/foil/job0710excel.zip','http://www1.nyc.gov/assets/buildings/foil/job0810excel.zip','http://www1.nyc.gov/assets/buildings/foil/job0910excel.zip','http://www1.nyc.gov/assets/buildings/foil/job1010excel.zip','http://www1.nyc.gov/assets/buildings/foil/job1110excel.zip','http://www1.nyc.gov/assets/buildings/foil/job1210excel.zip','http://www1.nyc.gov/assets/buildings/foil/job0111excel.zip','http://www1.nyc.gov/assets/buildings/foil/job0211excel.zip','http://www1.nyc.gov/assets/buildings/foil/job0311excel.zip','http://www1.nyc.gov/assets/buildings/foil/job0411excel.zip','http://www1.nyc.gov/assets/buildings/foil/job0511excel.zip','http://www1.nyc.gov/assets/buildings/foil/job0611excel.zip','http://www1.nyc.gov/assets/buildings/foil/job0711excel.zip','http://www1.nyc.gov/assets/buildings/foil/job0811excel.zip','http://www1.nyc.gov/assets/buildings/foil/job0911excel.zip','http://www1.nyc.gov/assets/buildings/foil/job1011excel.zip','http://www1.nyc.gov/assets/buildings/foil/job1111excel.zip','http://www1.nyc.gov/assets/buildings/foil/job1211excel.zip','http://www1.nyc.gov/assets/buildings/foil/job0112excel.zip','http://www1.nyc.gov/assets/buildings/foil/job0212excel.zip','http://www1.nyc.gov/assets/buildings/foil/job0312excel.zip','http://www1.nyc.gov/assets/buildings/foil/job0412excel.zip','http://www1.nyc.gov/assets/buildings/foil/job0512excel.zip','http://www1.nyc.gov/assets/buildings/foil/job0612excel.zip','http://www1.nyc.gov/assets/buildings/foil/job0712excel.zip','http://www1.nyc.gov/assets/buildings/foil/job0812excel.zip','http://www1.nyc.gov/assets/buildings/foil/job0912excel.zip','http://www1.nyc.gov/assets/buildings/foil/job1012excel.zip','http://www1.nyc.gov/assets/buildings/foil/job1112excel.zip','http://www1.nyc.gov/assets/buildings/foil/job1212excel.zip','http://www1.nyc.gov/assets/buildings/foil/job0113excel.zip','http://www1.nyc.gov/assets/buildings/foil/job0213excel.zip','http://www1.nyc.gov/assets/buildings/foil/job0313excel.zip','http://www1.nyc.gov/assets/buildings/foil/job0413excel.zip','http://www1.nyc.gov/assets/buildings/foil/job0513excel.zip','http://www1.nyc.gov/assets/buildings/foil/job0613excel.zip','http://www1.nyc.gov/assets/buildings/foil/job0713excel.zip','http://www1.nyc.gov/assets/buildings/foil/job0813excel.zip','http://www1.nyc.gov/assets/buildings/foil/job0913excel.zip','http://www1.nyc.gov/assets/buildings/foil/job1013excel.zip','http://www1.nyc.gov/assets/buildings/foil/job1113excel.zip','http://www1.nyc.gov/assets/buildings/foil/job1213excel.zip','http://www1.nyc.gov/assets/buildings/foil/job0114excel.zip','http://www1.nyc.gov/assets/buildings/foil/job0214excel.zip','http://www1.nyc.gov/assets/buildings/foil/job0314excel.zip','http://www1.nyc.gov/assets/buildings/foil/job0414excel.zip','http://www1.nyc.gov/assets/buildings/foil/job0514excel.zip','http://www1.nyc.gov/assets/buildings/foil/job0614excel.zip','http://www1.nyc.gov/assets/buildings/foil/job0714excel.zip','http://www1.nyc.gov/assets/buildings/foil/job0814excel.zip','http://www1.nyc.gov/assets/buildings/foil/job0914excel.zip','http://www1.nyc.gov/assets/buildings/foil/job1014excel.zip','http://www1.nyc.gov/assets/buildings/foil/job1114excel.zip','http://www1.nyc.gov/assets/buildings/foil/job1214excel.zip','http://www1.nyc.gov/assets/buildings/foil/job0115excel.zip','http://www1.nyc.gov/assets/buildings/foil/job0215excel.zip','http://www1.nyc.gov/assets/buildings/foil/job0315excel.zip','http://www1.nyc.gov/assets/buildings/foil/job0415excel.zip','http://www1.nyc.gov/assets/buildings/foil/job0515excel.zip','http://www1.nyc.gov/assets/buildings/foil/job0615excel.zip','http://www1.nyc.gov/assets/buildings/foil/job0715excel.zip','http://www1.nyc.gov/assets/buildings/foil/job0815excel.zip','http://www1.nyc.gov/assets/buildings/foil/job0915excel.zip','http://www1.nyc.gov/assets/buildings/foil/job1015excel.zip','http://www1.nyc.gov/assets/buildings/foil/job1115excel.zip','http://www1.nyc.gov/assets/buildings/foil/job1215excel.zip','http://www1.nyc.gov/assets/buildings/foil/job0116excel.zip','http://www1.nyc.gov/assets/buildings/foil/job0216excel.zip','http://www1.nyc.gov/assets/buildings/foil/job0316excel.zip','http://www1.nyc.gov/assets/buildings/foil/job0416excel.zip','http://www1.nyc.gov/assets/buildings/foil/job0516excel.zip','http://www1.nyc.gov/assets/buildings/foil/job0616excel.zip','http://www1.nyc.gov/assets/buildings/foil/job0716excel.zip','http://www1.nyc.gov/assets/buildings/foil/job0816excel.zip','http://www1.nyc.gov/assets/buildings/foil/job0916excel.zip','http://www1.nyc.gov/assets/buildings/foil/job1016excel.zip','http://www1.nyc.gov/assets/buildings/foil/job1116excel.zip','http://www1.nyc.gov/assets/buildings/foil/job1216excel.zip','http://www1.nyc.gov/assets/buildings/foil/job0117excel.zip','http://www1.nyc.gov/assets/buildings/foil/job0217excel.zip','http://www1.nyc.gov/assets/buildings/foil/job0317excel.zip','http://www1.nyc.gov/assets/buildings/foil/job0417excel.zip','http://www1.nyc.gov/assets/buildings/foil/job0517excel.zip','http://www1.nyc.gov/assets/buildings/foil/job0617excel.zip','http://www1.nyc.gov/assets/buildings/foil/job0717excel.zip','http://www1.nyc.gov/assets/buildings/foil/job0817excel.zip','http://www1.nyc.gov/assets/buildings/foil/job0917excel.zip','http://www1.nyc.gov/assets/buildings/foil/job1017excel.zip','http://www1.nyc.gov/assets/buildings/foil/job1117excel.zip','http://www1.nyc.gov/assets/buildings/foil/job1217excel.zip']\n",
    "# Save directory\n",
    "os.chdir(\"Z:\\Agency Folders\\Buildings\\Data\\BIS Data\\Extension post 2012\\Monthly Jobs Reports\")\n",
    "\n",
    "# In this example, due to a Java redirect, the link addresses needed to be retreived.\n",
    "for f in filelist:        \n",
    "    download_file(f)\n",
    "\n",
    "print(\"Done\")"
   ]
  },
  {
   "cell_type": "code",
   "execution_count": 9,
   "metadata": {},
   "outputs": [
    {
     "name": "stdout",
     "output_type": "stream",
     "text": [
      "downloading with urllib\n",
      "downloading with urllib2\n"
     ]
    }
   ],
   "source": [
    "# Python 3 Download Methods\n",
    "import urllib.request, urllib.parse, urllib.error\n",
    " \n",
    "url = 'http://www.blog.pythonlibrary.org/wp-content/uploads/2012/06/wxDbViewer.zip'\n",
    " \n",
    "print(\"downloading with urllib\")\n",
    "urllib.request.urlretrieve(url, \"code.zip\")\n",
    " \n",
    "print(\"downloading with urllib2\")\n",
    "f = urllib.request.urlopen(url)\n",
    "data = f.read()\n",
    "with open(\"code2.zip\", \"wb\") as code:\n",
    "    code.write(data)"
   ]
  },
  {
   "cell_type": "code",
   "execution_count": null,
   "metadata": {
    "collapsed": true
   },
   "outputs": [],
   "source": []
  }
 ],
 "metadata": {
  "kernelspec": {
   "display_name": "Python 3",
   "language": "python",
   "name": "python3"
  },
  "language_info": {
   "codemirror_mode": {
    "name": "ipython",
    "version": 3
   },
   "file_extension": ".py",
   "mimetype": "text/x-python",
   "name": "python",
   "nbconvert_exporter": "python",
   "pygments_lexer": "ipython3",
   "version": "3.6.3"
  }
 },
 "nbformat": 4,
 "nbformat_minor": 2
}
